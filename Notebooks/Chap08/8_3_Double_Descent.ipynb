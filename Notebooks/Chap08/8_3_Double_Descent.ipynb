{
  "nbformat": 4,
  "nbformat_minor": 0,
  "metadata": {
    "colab": {
      "provenance": [],
      "gpuType": "T4",
      "include_colab_link": true
    },
    "kernelspec": {
      "name": "python3",
      "display_name": "Python 3"
    },
    "language_info": {
      "name": "python"
    },
    "accelerator": "GPU"
  },
  "cells": [
    {
      "cell_type": "markdown",
      "metadata": {
        "id": "view-in-github",
        "colab_type": "text"
      },
      "source": [
        "<a href=\"https://colab.research.google.com/github/mmmullooly123/DeepLearning_CSCI167/blob/main/Notebooks/Chap08/8_3_Double_Descent.ipynb\" target=\"_parent\"><img src=\"https://colab.research.google.com/assets/colab-badge.svg\" alt=\"Open In Colab\"/></a>"
      ]
    },
    {
      "cell_type": "markdown",
      "source": [
        "# **Notebook 8.3: Double Descent**\n",
        "\n",
        "This notebook investigates double descent as described in section 8.4 of the book.\n",
        "\n",
        "It uses the MNIST-1D database which can be found at https://github.com/greydanus/mnist1d\n",
        "\n",
        "Work through the cells below, running each cell in turn. In various places you will see the words \"TODO\". Follow the instructions at these places and make predictions about what is going to happen or write code to complete the functions.\n",
        "\n",
        "Contact me at udlbookmail@gmail.com if you find any mistakes or have any suggestions."
      ],
      "metadata": {
        "id": "L6chybAVFJW2"
      }
    },
    {
      "cell_type": "code",
      "source": [
        "# Run this if you're in a Colab to install MNIST 1D repository\n",
        "!pip install git+https://github.com/greydanus/mnist1d"
      ],
      "metadata": {
        "id": "fn9BP5N5TguP",
        "outputId": "ff7b7a9f-3c89-4963-e8cf-ed0523344051",
        "colab": {
          "base_uri": "https://localhost:8080/"
        }
      },
      "execution_count": 1,
      "outputs": [
        {
          "output_type": "stream",
          "name": "stdout",
          "text": [
            "Collecting git+https://github.com/greydanus/mnist1d\n",
            "  Cloning https://github.com/greydanus/mnist1d to /tmp/pip-req-build-fkt5gn2n\n",
            "  Running command git clone --filter=blob:none --quiet https://github.com/greydanus/mnist1d /tmp/pip-req-build-fkt5gn2n\n",
            "  Resolved https://github.com/greydanus/mnist1d to commit 7878d96082abd200c546a07a4101fa90b30fdf7e\n",
            "  Installing build dependencies ... \u001b[?25l\u001b[?25hdone\n",
            "  Getting requirements to build wheel ... \u001b[?25l\u001b[?25hdone\n",
            "  Preparing metadata (pyproject.toml) ... \u001b[?25l\u001b[?25hdone\n",
            "Requirement already satisfied: requests in /usr/local/lib/python3.12/dist-packages (from mnist1d==0.0.2.post16) (2.32.4)\n",
            "Requirement already satisfied: numpy in /usr/local/lib/python3.12/dist-packages (from mnist1d==0.0.2.post16) (2.0.2)\n",
            "Requirement already satisfied: matplotlib in /usr/local/lib/python3.12/dist-packages (from mnist1d==0.0.2.post16) (3.10.0)\n",
            "Requirement already satisfied: scipy in /usr/local/lib/python3.12/dist-packages (from mnist1d==0.0.2.post16) (1.16.2)\n",
            "Requirement already satisfied: contourpy>=1.0.1 in /usr/local/lib/python3.12/dist-packages (from matplotlib->mnist1d==0.0.2.post16) (1.3.3)\n",
            "Requirement already satisfied: cycler>=0.10 in /usr/local/lib/python3.12/dist-packages (from matplotlib->mnist1d==0.0.2.post16) (0.12.1)\n",
            "Requirement already satisfied: fonttools>=4.22.0 in /usr/local/lib/python3.12/dist-packages (from matplotlib->mnist1d==0.0.2.post16) (4.60.1)\n",
            "Requirement already satisfied: kiwisolver>=1.3.1 in /usr/local/lib/python3.12/dist-packages (from matplotlib->mnist1d==0.0.2.post16) (1.4.9)\n",
            "Requirement already satisfied: packaging>=20.0 in /usr/local/lib/python3.12/dist-packages (from matplotlib->mnist1d==0.0.2.post16) (25.0)\n",
            "Requirement already satisfied: pillow>=8 in /usr/local/lib/python3.12/dist-packages (from matplotlib->mnist1d==0.0.2.post16) (11.3.0)\n",
            "Requirement already satisfied: pyparsing>=2.3.1 in /usr/local/lib/python3.12/dist-packages (from matplotlib->mnist1d==0.0.2.post16) (3.2.5)\n",
            "Requirement already satisfied: python-dateutil>=2.7 in /usr/local/lib/python3.12/dist-packages (from matplotlib->mnist1d==0.0.2.post16) (2.9.0.post0)\n",
            "Requirement already satisfied: charset_normalizer<4,>=2 in /usr/local/lib/python3.12/dist-packages (from requests->mnist1d==0.0.2.post16) (3.4.4)\n",
            "Requirement already satisfied: idna<4,>=2.5 in /usr/local/lib/python3.12/dist-packages (from requests->mnist1d==0.0.2.post16) (3.11)\n",
            "Requirement already satisfied: urllib3<3,>=1.21.1 in /usr/local/lib/python3.12/dist-packages (from requests->mnist1d==0.0.2.post16) (2.5.0)\n",
            "Requirement already satisfied: certifi>=2017.4.17 in /usr/local/lib/python3.12/dist-packages (from requests->mnist1d==0.0.2.post16) (2025.10.5)\n",
            "Requirement already satisfied: six>=1.5 in /usr/local/lib/python3.12/dist-packages (from python-dateutil>=2.7->matplotlib->mnist1d==0.0.2.post16) (1.17.0)\n",
            "Building wheels for collected packages: mnist1d\n",
            "  Building wheel for mnist1d (pyproject.toml) ... \u001b[?25l\u001b[?25hdone\n",
            "  Created wheel for mnist1d: filename=mnist1d-0.0.2.post16-py3-none-any.whl size=14665 sha256=b31c832ee3d78c378195691b7522f1683e33cb2a534c900ae673676c49f64a2a\n",
            "  Stored in directory: /tmp/pip-ephem-wheel-cache-nv0cb9u0/wheels/18/40/b6/29381fee9b4c80fdbc304d52bb065a7286bbcca5ca2b8737c0\n",
            "Successfully built mnist1d\n",
            "Installing collected packages: mnist1d\n",
            "Successfully installed mnist1d-0.0.2.post16\n"
          ]
        }
      ]
    },
    {
      "cell_type": "code",
      "source": [
        "import torch, torch.nn as nn\n",
        "from torch.utils.data import TensorDataset, DataLoader\n",
        "from torch.optim.lr_scheduler import StepLR\n",
        "import numpy as np\n",
        "import matplotlib.pyplot as plt\n",
        "import mnist1d\n",
        "import random\n",
        "random.seed(0)\n",
        "\n",
        "# Try attaching to GPU -- Use \"Change Runtime Type to change to GPUT\"\n",
        "DEVICE = str(torch.device('cuda' if torch.cuda.is_available() else 'cpu'))\n",
        "print('Using:', DEVICE)"
      ],
      "metadata": {
        "id": "hFxuHpRqTgri",
        "outputId": "80b3fc49-724c-442e-d30a-96d22ab5361c",
        "colab": {
          "base_uri": "https://localhost:8080/"
        }
      },
      "execution_count": 2,
      "outputs": [
        {
          "output_type": "stream",
          "name": "stdout",
          "text": [
            "Using: cuda\n"
          ]
        }
      ]
    },
    {
      "cell_type": "code",
      "source": [
        "args = mnist1d.data.get_dataset_args()\n",
        "args.num_samples = 8000\n",
        "args.train_split = 0.5\n",
        "args.corr_noise_scale = 0.25\n",
        "args.iid_noise_scale=2e-2\n",
        "data = mnist1d.data.get_dataset(args, path='./mnist1d_data.pkl', download=False, regenerate=True)\n",
        "\n",
        "# Add 15% noise to training labels\n",
        "for c_y in range(len(data['y'])):\n",
        "    random_number = random.random()\n",
        "    if random_number < 0.15 :\n",
        "        random_int = int(random.random() * 10)\n",
        "        data['y'][c_y] = random_int\n",
        "\n",
        "# The training and test input and outputs are in\n",
        "# data['x'], data['y'], data['x_test'], and data['y_test']\n",
        "print(\"Examples in training set: {}\".format(len(data['y'])))\n",
        "print(\"Examples in test set: {}\".format(len(data['y_test'])))\n",
        "print(\"Dimensionality of each example: {}\".format(data['x'].shape[-1]))"
      ],
      "metadata": {
        "id": "PW2gyXL5UkLU",
        "outputId": "5d209f0e-50a8-4365-af24-885147a33d05",
        "colab": {
          "base_uri": "https://localhost:8080/"
        }
      },
      "execution_count": 10,
      "outputs": [
        {
          "output_type": "stream",
          "name": "stdout",
          "text": [
            "Did or could not load data from ./mnist1d_data.pkl. Rebuilding dataset...\n",
            "Examples in training set: 4000\n",
            "Examples in test set: 4000\n",
            "Dimensionality of each example: 40\n"
          ]
        }
      ]
    },
    {
      "cell_type": "code",
      "source": [
        "# Initialize the parameters with He initialization\n",
        "def weights_init(layer_in):\n",
        "  if isinstance(layer_in, nn.Linear):\n",
        "    nn.init.kaiming_uniform_(layer_in.weight)\n",
        "    layer_in.bias.data.fill_(0.0)\n",
        "\n",
        "# Return an initialized model with two hidden layers and n_hidden hidden units at each\n",
        "def get_model(n_hidden):\n",
        "\n",
        "  D_i = 40    # Input dimensions\n",
        "  D_k = n_hidden   # Hidden dimensions\n",
        "  D_o = 10    # Output dimensions\n",
        "\n",
        "  # Define a model with two hidden layers\n",
        "  # And ReLU activations between them\n",
        "  model = nn.Sequential(\n",
        "  nn.Linear(D_i, D_k),\n",
        "  nn.ReLU(),\n",
        "  nn.Linear(D_k, D_k),\n",
        "  nn.ReLU(),\n",
        "  nn.Linear(D_k, D_o))\n",
        "\n",
        "  # Call the function you just defined\n",
        "  model.apply(weights_init)\n",
        "\n",
        "  # Return the model\n",
        "  return model ;"
      ],
      "metadata": {
        "id": "hAIvZOAlTnk9"
      },
      "execution_count": 13,
      "outputs": []
    },
    {
      "cell_type": "code",
      "source": [
        "def fit_model(model, data, n_epoch):\n",
        "\n",
        "  # choose cross entropy loss function (equation 5.24)\n",
        "  loss_function = torch.nn.CrossEntropyLoss()\n",
        "  # construct SGD optimizer and initialize learning rate and momentum\n",
        "  # optimizer = torch.optim.Adam(model.parameters(), lr=0.01)\n",
        "  optimizer = torch.optim.SGD(model.parameters(), lr = 0.01, momentum=0.9)\n",
        "\n",
        "\n",
        "  x_train = torch.tensor(data['x'].astype('float32'))\n",
        "  y_train = torch.tensor(data['y'].transpose().astype('long'))\n",
        "  x_test= torch.tensor(data['x_test'].astype('float32'))\n",
        "  y_test = torch.tensor(data['y_test'].astype('long'))\n",
        "\n",
        "  # load the data into a class that creates the batches\n",
        "  data_loader = DataLoader(TensorDataset(x_train,y_train), batch_size=100, shuffle=True, worker_init_fn=np.random.seed(1))\n",
        "\n",
        "  for epoch in range(n_epoch):\n",
        "    # loop over batches\n",
        "    for i, batch in enumerate(data_loader):\n",
        "      # retrieve inputs and labels for this batch\n",
        "      x_batch, y_batch = batch\n",
        "      # zero the parameter gradients\n",
        "      optimizer.zero_grad()\n",
        "      # forward pass -- calculate model output\n",
        "      pred = model(x_batch)\n",
        "      # compute the loss\n",
        "      loss = loss_function(pred, y_batch)\n",
        "      # backward pass\n",
        "      loss.backward()\n",
        "      # SGD update\n",
        "      optimizer.step()\n",
        "\n",
        "    # Run whole dataset to get statistics -- normally wouldn't do this\n",
        "    pred_train = model(x_train)\n",
        "    pred_test = model(x_test)\n",
        "    _, predicted_train_class = torch.max(pred_train.data, 1)\n",
        "    _, predicted_test_class = torch.max(pred_test.data, 1)\n",
        "    errors_train = 100 - 100 * (predicted_train_class == y_train).float().sum() / len(y_train)\n",
        "    errors_test= 100 - 100 * (predicted_test_class == y_test).float().sum() / len(y_test)\n",
        "    losses_train = loss_function(pred_train, y_train).item()\n",
        "    losses_test= loss_function(pred_test, y_test).item()\n",
        "    if epoch%100 ==0 :\n",
        "      print(f'Epoch {epoch:5d}, train loss {losses_train:.6f}, train error {errors_train:3.2f},  test loss {losses_test:.6f}, test error {errors_test:3.2f}')\n",
        "\n",
        "  return errors_train, errors_test\n"
      ],
      "metadata": {
        "id": "AazlQhheWmHk"
      },
      "execution_count": 7,
      "outputs": []
    },
    {
      "cell_type": "code",
      "source": [
        "def count_parameters(model):\n",
        "    return sum(p.numel() for p in model.parameters() if p.requires_grad)"
      ],
      "metadata": {
        "id": "AQNCmFNV6JpV"
      },
      "execution_count": 6,
      "outputs": []
    },
    {
      "cell_type": "markdown",
      "source": [
        "The following code produces the double descent curve by training the model with different numbers of hidden units and plotting the test error.\n",
        "\n",
        "TODO:\n",
        "\n",
        "*Before* you run the code, and considering that there are 4000 training examples predict:<br>\n",
        "\n",
        "1.    At what capacity do you think the training error will become zero?\n",
        "\n",
        "At 100 hidden units the model would have enough parameters to basically memorize the data of 4000 examples.\n",
        "\n",
        "2.   At what capacity do you expect the first minima of the double descent curve to appear?\n",
        "\n",
        "Around 60 units since it would be just large enough to capture most of the data but not over fit to the noise.\n",
        "\n",
        "\n",
        "3. At what capacity do you expect the maximum of the double descent curve to appear?\n",
        "\n",
        "Around 200 units because the model would start to fit to the noise so variance increases causing test error to spike then drop to a over parameterized area.\n"
      ],
      "metadata": {
        "id": "IcP4UPMudxPS"
      }
    },
    {
      "cell_type": "code",
      "source": [
        "# This code will take a while (~30 mins on GPU) to run!  Go and make a cup of coffee!\n",
        "\n",
        "hidden_variables = np.array([18,40,70,140,250,400]) ;\n",
        "\n",
        "errors_train_all = np.zeros_like(hidden_variables)\n",
        "errors_test_all = np.zeros_like(hidden_variables)\n",
        "total_weights_all = np.zeros_like(hidden_variables)\n",
        "\n",
        "# loop over the dataset n_epoch times\n",
        "n_epoch = 1000\n",
        "\n",
        "# For each hidden variable size\n",
        "for c_hidden in range(len(hidden_variables)):\n",
        "    print(f'Training model with {hidden_variables[c_hidden]:3d} hidden variables')\n",
        "    # Get a model\n",
        "    model = get_model(hidden_variables[c_hidden]) ;\n",
        "    # Count and store number of weights\n",
        "    total_weights_all[c_hidden] = count_parameters(model)\n",
        "    # Train the model\n",
        "    errors_train, errors_test = fit_model(model, data, n_epoch)\n",
        "    # Store the results\n",
        "    errors_train_all[c_hidden] = errors_train\n",
        "    errors_test_all[c_hidden]= errors_test\n",
        "\n"
      ],
      "metadata": {
        "id": "K4OmBZGHWXpk",
        "outputId": "1016eed8-a130-4203-f3f0-d6d7b97dbe4c",
        "colab": {
          "base_uri": "https://localhost:8080/"
        }
      },
      "execution_count": 17,
      "outputs": [
        {
          "output_type": "stream",
          "name": "stdout",
          "text": [
            "Training model with  18 hidden variables\n",
            "Epoch     0, train loss 2.249090, train error 84.28,  test loss 2.242503, test error 84.38\n",
            "Epoch   100, train loss 1.409891, train error 47.12,  test loss 1.371960, test error 50.25\n",
            "Epoch   200, train loss 1.287749, train error 43.42,  test loss 1.350132, test error 49.60\n",
            "Epoch   300, train loss 1.230762, train error 40.92,  test loss 1.377575, test error 49.15\n",
            "Epoch   400, train loss 1.199803, train error 40.42,  test loss 1.409879, test error 50.28\n",
            "Epoch   500, train loss 1.185338, train error 40.33,  test loss 1.463217, test error 50.47\n",
            "Epoch   600, train loss 1.177940, train error 39.83,  test loss 1.483899, test error 50.58\n",
            "Epoch   700, train loss 1.156817, train error 39.05,  test loss 1.520629, test error 51.72\n",
            "Epoch   800, train loss 1.154494, train error 39.35,  test loss 1.553729, test error 51.95\n",
            "Epoch   900, train loss 1.147699, train error 39.45,  test loss 1.568094, test error 52.45\n",
            "Training model with  40 hidden variables\n",
            "Epoch     0, train loss 2.094363, train error 78.20,  test loss 2.078239, test error 78.93\n",
            "Epoch   100, train loss 0.945470, train error 30.68,  test loss 1.451294, test error 50.70\n",
            "Epoch   200, train loss 0.659536, train error 21.50,  test loss 1.959776, test error 53.05\n",
            "Epoch   300, train loss 0.488643, train error 15.70,  test loss 2.582193, test error 53.88\n",
            "Epoch   400, train loss 0.382615, train error 12.57,  test loss 3.240144, test error 53.95\n",
            "Epoch   500, train loss 0.329222, train error 11.10,  test loss 4.030548, test error 56.60\n",
            "Epoch   600, train loss 0.281420, train error 9.72,  test loss 4.780774, test error 56.50\n",
            "Epoch   700, train loss 0.332668, train error 12.22,  test loss 5.433956, test error 56.97\n",
            "Epoch   800, train loss 0.227641, train error 8.60,  test loss 6.049997, test error 56.97\n",
            "Epoch   900, train loss 0.236632, train error 8.07,  test loss 6.783206, test error 57.75\n",
            "Training model with  70 hidden variables\n",
            "Epoch     0, train loss 2.058767, train error 76.57,  test loss 1.988283, test error 75.57\n",
            "Epoch   100, train loss 0.398102, train error 10.55,  test loss 1.882315, test error 50.90\n",
            "Epoch   200, train loss 0.035592, train error 0.00,  test loss 3.523216, test error 52.83\n",
            "Epoch   300, train loss 0.011147, train error 0.00,  test loss 4.321121, test error 53.17\n",
            "Epoch   400, train loss 0.006150, train error 0.00,  test loss 4.759026, test error 53.03\n",
            "Epoch   500, train loss 0.004127, train error 0.00,  test loss 5.066994, test error 53.30\n",
            "Epoch   600, train loss 0.003061, train error 0.00,  test loss 5.299037, test error 53.42\n",
            "Epoch   700, train loss 0.002404, train error 0.00,  test loss 5.486677, test error 53.45\n",
            "Epoch   800, train loss 0.001957, train error 0.00,  test loss 5.643062, test error 53.35\n",
            "Epoch   900, train loss 0.001644, train error 0.00,  test loss 5.777663, test error 53.45\n",
            "Training model with 140 hidden variables\n",
            "Epoch     0, train loss 1.945297, train error 71.18,  test loss 1.877462, test error 72.70\n",
            "Epoch   100, train loss 0.035518, train error 0.00,  test loss 2.194659, test error 50.62\n",
            "Epoch   200, train loss 0.007933, train error 0.00,  test loss 2.676191, test error 50.35\n",
            "Epoch   300, train loss 0.004073, train error 0.00,  test loss 2.908888, test error 50.38\n",
            "Epoch   400, train loss 0.002655, train error 0.00,  test loss 3.059144, test error 50.60\n",
            "Epoch   500, train loss 0.001930, train error 0.00,  test loss 3.172132, test error 50.45\n",
            "Epoch   600, train loss 0.001501, train error 0.00,  test loss 3.262808, test error 50.35\n",
            "Epoch   700, train loss 0.001220, train error 0.00,  test loss 3.336891, test error 50.42\n",
            "Epoch   800, train loss 0.001022, train error 0.00,  test loss 3.400170, test error 50.50\n",
            "Epoch   900, train loss 0.000876, train error 0.00,  test loss 3.455272, test error 50.47\n",
            "Training model with 250 hidden variables\n",
            "Epoch     0, train loss 1.935266, train error 72.22,  test loss 1.878396, test error 73.43\n",
            "Epoch   100, train loss 0.017198, train error 0.00,  test loss 1.876453, test error 46.17\n",
            "Epoch   200, train loss 0.005399, train error 0.00,  test loss 2.127566, test error 46.12\n",
            "Epoch   300, train loss 0.002997, train error 0.00,  test loss 2.259502, test error 46.08\n",
            "Epoch   400, train loss 0.002022, train error 0.00,  test loss 2.349484, test error 46.08\n",
            "Epoch   500, train loss 0.001504, train error 0.00,  test loss 2.417922, test error 46.10\n",
            "Epoch   600, train loss 0.001187, train error 0.00,  test loss 2.473016, test error 45.95\n",
            "Epoch   700, train loss 0.000974, train error 0.00,  test loss 2.519144, test error 45.95\n",
            "Epoch   800, train loss 0.000822, train error 0.00,  test loss 2.558760, test error 45.97\n",
            "Epoch   900, train loss 0.000709, train error 0.00,  test loss 2.593477, test error 46.08\n",
            "Training model with 400 hidden variables\n",
            "Epoch     0, train loss 1.837543, train error 66.35,  test loss 1.786847, test error 69.18\n",
            "Epoch   100, train loss 0.011444, train error 0.00,  test loss 1.765399, test error 45.97\n",
            "Epoch   200, train loss 0.004110, train error 0.00,  test loss 1.939171, test error 45.58\n",
            "Epoch   300, train loss 0.002382, train error 0.00,  test loss 2.036329, test error 45.53\n",
            "Epoch   400, train loss 0.001642, train error 0.00,  test loss 2.104070, test error 45.50\n",
            "Epoch   500, train loss 0.001238, train error 0.00,  test loss 2.156586, test error 45.40\n",
            "Epoch   600, train loss 0.000987, train error 0.00,  test loss 2.198570, test error 45.50\n",
            "Epoch   700, train loss 0.000816, train error 0.00,  test loss 2.233812, test error 45.55\n",
            "Epoch   800, train loss 0.000693, train error 0.00,  test loss 2.264690, test error 45.53\n",
            "Epoch   900, train loss 0.000600, train error 0.00,  test loss 2.291768, test error 45.58\n"
          ]
        }
      ]
    },
    {
      "cell_type": "code",
      "source": [
        "import matplotlib.pyplot as plt\n",
        "import numpy as np\n",
        "\n",
        "# Assuming data['y'] is available and contains the training examples\n",
        "num_training_examples = len(data['y'])\n",
        "\n",
        "# Find the index where total_weights_all is closest to num_training_examples\n",
        "closest_index = np.argmin(np.abs(np.array(total_weights_all) - num_training_examples))\n",
        "\n",
        "# Get the corresponding value of hidden variables\n",
        "hidden_variable_at_num_training_examples = hidden_variables[closest_index]\n",
        "\n",
        "# Plot the results\n",
        "fig, ax = plt.subplots()\n",
        "ax.plot(hidden_variables, errors_train_all, 'r-', label='train')\n",
        "ax.plot(hidden_variables, errors_test_all, 'b-', label='test')\n",
        "\n",
        "# Add a vertical line at the point where total weights equal the number of training examples\n",
        "ax.axvline(x=hidden_variable_at_num_training_examples, color='g', linestyle='--', label='N(weights) = N(train)')\n",
        "\n",
        "ax.set_ylim(0, 100)\n",
        "ax.set_xlabel('No. hidden variables')\n",
        "ax.set_ylabel('Error')\n",
        "ax.legend()\n",
        "plt.show()\n"
      ],
      "metadata": {
        "id": "Rw-iRboTXbck",
        "outputId": "3806fe0c-a757-4fc0-aa70-0115c62caf4c",
        "colab": {
          "base_uri": "https://localhost:8080/",
          "height": 455
        }
      },
      "execution_count": 18,
      "outputs": [
        {
          "output_type": "display_data",
          "data": {
            "text/plain": [
              "<Figure size 640x480 with 1 Axes>"
            ],
            "image/png": "[encoded data removed]"
          },
          "metadata": {}
        }
      ]
    },
    {
      "cell_type": "code",
      "source": [],
      "metadata": {
        "id": "KT4X8_hE5NFb"
      },
      "execution_count": null,
      "outputs": []
    },
    {
      "cell_type": "code",
      "source": [],
      "metadata": {
        "id": "iGKZSfVF2r4z"
      },
      "execution_count": null,
      "outputs": []
    }
  ]
}