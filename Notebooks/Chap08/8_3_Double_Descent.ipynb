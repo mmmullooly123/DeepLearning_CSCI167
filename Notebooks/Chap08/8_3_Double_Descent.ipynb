{
  "nbformat": 4,
  "nbformat_minor": 0,
  "metadata": {
    "colab": {
      "provenance": [],
      "gpuType": "T4",
      "include_colab_link": true
    },
    "kernelspec": {
      "name": "python3",
      "display_name": "Python 3"
    },
    "language_info": {
      "name": "python"
    },
    "accelerator": "GPU"
  },
  "cells": [
    {
      "cell_type": "markdown",
      "metadata": {
        "id": "view-in-github",
        "colab_type": "text"
      },
      "source": [
        "<a href=\"https://colab.research.google.com/github/mmmullooly123/DeepLearning_CSCI167/blob/main/Notebooks/Chap08/8_3_Double_Descent.ipynb\" target=\"_parent\"><img src=\"https://colab.research.google.com/assets/colab-badge.svg\" alt=\"Open In Colab\"/></a>"
      ]
    },
    {
      "cell_type": "markdown",
      "source": [
        "# **Notebook 8.3: Double Descent**\n",
        "\n",
        "This notebook investigates double descent as described in section 8.4 of the book.\n",
        "\n",
        "It uses the MNIST-1D database which can be found at https://github.com/greydanus/mnist1d\n",
        "\n",
        "Work through the cells below, running each cell in turn. In various places you will see the words \"TODO\". Follow the instructions at these places and make predictions about what is going to happen or write code to complete the functions.\n",
        "\n",
        "Contact me at udlbookmail@gmail.com if you find any mistakes or have any suggestions."
      ],
      "metadata": {
        "id": "L6chybAVFJW2"
      }
    },
    {
      "cell_type": "code",
      "source": [
        "# Run this if you're in a Colab to install MNIST 1D repository\n",
        "!pip install git+https://github.com/greydanus/mnist1d"
      ],
      "metadata": {
        "id": "fn9BP5N5TguP",
        "colab": {
          "base_uri": "https://localhost:8080/"
        },
        "outputId": "ff7b7a9f-3c89-4963-e8cf-ed0523344051"
      },
      "execution_count": 1,
      "outputs": [
        {
          "output_type": "stream",
          "name": "stdout",
          "text": [
            "Collecting git+https://github.com/greydanus/mnist1d\n",
            "  Cloning https://github.com/greydanus/mnist1d to /tmp/pip-req-build-fkt5gn2n\n",
            "  Running command git clone --filter=blob:none --quiet https://github.com/greydanus/mnist1d /tmp/pip-req-build-fkt5gn2n\n",
            "  Resolved https://github.com/greydanus/mnist1d to commit 7878d96082abd200c546a07a4101fa90b30fdf7e\n",
            "  Installing build dependencies ... \u001b[?25l\u001b[?25hdone\n",
            "  Getting requirements to build wheel ... \u001b[?25l\u001b[?25hdone\n",
            "  Preparing metadata (pyproject.toml) ... \u001b[?25l\u001b[?25hdone\n",
            "Requirement already satisfied: requests in /usr/local/lib/python3.12/dist-packages (from mnist1d==0.0.2.post16) (2.32.4)\n",
            "Requirement already satisfied: numpy in /usr/local/lib/python3.12/dist-packages (from mnist1d==0.0.2.post16) (2.0.2)\n",
            "Requirement already satisfied: matplotlib in /usr/local/lib/python3.12/dist-packages (from mnist1d==0.0.2.post16) (3.10.0)\n",
            "Requirement already satisfied: scipy in /usr/local/lib/python3.12/dist-packages (from mnist1d==0.0.2.post16) (1.16.2)\n",
            "Requirement already satisfied: contourpy>=1.0.1 in /usr/local/lib/python3.12/dist-packages (from matplotlib->mnist1d==0.0.2.post16) (1.3.3)\n",
            "Requirement already satisfied: cycler>=0.10 in /usr/local/lib/python3.12/dist-packages (from matplotlib->mnist1d==0.0.2.post16) (0.12.1)\n",
            "Requirement already satisfied: fonttools>=4.22.0 in /usr/local/lib/python3.12/dist-packages (from matplotlib->mnist1d==0.0.2.post16) (4.60.1)\n",
            "Requirement already satisfied: kiwisolver>=1.3.1 in /usr/local/lib/python3.12/dist-packages (from matplotlib->mnist1d==0.0.2.post16) (1.4.9)\n",
            "Requirement already satisfied: packaging>=20.0 in /usr/local/lib/python3.12/dist-packages (from matplotlib->mnist1d==0.0.2.post16) (25.0)\n",
            "Requirement already satisfied: pillow>=8 in /usr/local/lib/python3.12/dist-packages (from matplotlib->mnist1d==0.0.2.post16) (11.3.0)\n",
            "Requirement already satisfied: pyparsing>=2.3.1 in /usr/local/lib/python3.12/dist-packages (from matplotlib->mnist1d==0.0.2.post16) (3.2.5)\n",
            "Requirement already satisfied: python-dateutil>=2.7 in /usr/local/lib/python3.12/dist-packages (from matplotlib->mnist1d==0.0.2.post16) (2.9.0.post0)\n",
            "Requirement already satisfied: charset_normalizer<4,>=2 in /usr/local/lib/python3.12/dist-packages (from requests->mnist1d==0.0.2.post16) (3.4.4)\n",
            "Requirement already satisfied: idna<4,>=2.5 in /usr/local/lib/python3.12/dist-packages (from requests->mnist1d==0.0.2.post16) (3.11)\n",
            "Requirement already satisfied: urllib3<3,>=1.21.1 in /usr/local/lib/python3.12/dist-packages (from requests->mnist1d==0.0.2.post16) (2.5.0)\n",
            "Requirement already satisfied: certifi>=2017.4.17 in /usr/local/lib/python3.12/dist-packages (from requests->mnist1d==0.0.2.post16) (2025.10.5)\n",
            "Requirement already satisfied: six>=1.5 in /usr/local/lib/python3.12/dist-packages (from python-dateutil>=2.7->matplotlib->mnist1d==0.0.2.post16) (1.17.0)\n",
            "Building wheels for collected packages: mnist1d\n",
            "  Building wheel for mnist1d (pyproject.toml) ... \u001b[?25l\u001b[?25hdone\n",
            "  Created wheel for mnist1d: filename=mnist1d-0.0.2.post16-py3-none-any.whl size=14665 sha256=b31c832ee3d78c378195691b7522f1683e33cb2a534c900ae673676c49f64a2a\n",
            "  Stored in directory: /tmp/pip-ephem-wheel-cache-nv0cb9u0/wheels/18/40/b6/29381fee9b4c80fdbc304d52bb065a7286bbcca5ca2b8737c0\n",
            "Successfully built mnist1d\n",
            "Installing collected packages: mnist1d\n",
            "Successfully installed mnist1d-0.0.2.post16\n"
          ]
        }
      ]
    },
    {
      "cell_type": "code",
      "source": [
        "import torch, torch.nn as nn\n",
        "from torch.utils.data import TensorDataset, DataLoader\n",
        "from torch.optim.lr_scheduler import StepLR\n",
        "import numpy as np\n",
        "import matplotlib.pyplot as plt\n",
        "import mnist1d\n",
        "import random\n",
        "random.seed(0)\n",
        "\n",
        "# Try attaching to GPU -- Use \"Change Runtime Type to change to GPUT\"\n",
        "DEVICE = str(torch.device('cuda' if torch.cuda.is_available() else 'cpu'))\n",
        "print('Using:', DEVICE)"
      ],
      "metadata": {
        "id": "hFxuHpRqTgri",
        "colab": {
          "base_uri": "https://localhost:8080/"
        },
        "outputId": "80b3fc49-724c-442e-d30a-96d22ab5361c"
      },
      "execution_count": 2,
      "outputs": [
        {
          "output_type": "stream",
          "name": "stdout",
          "text": [
            "Using: cuda\n"
          ]
        }
      ]
    },
    {
      "cell_type": "code",
      "source": [
        "args = mnist1d.data.get_dataset_args()\n",
        "args.num_samples = 8000\n",
        "args.train_split = 0.5\n",
        "args.corr_noise_scale = 0.25\n",
        "args.iid_noise_scale=2e-2\n",
        "data = mnist1d.data.get_dataset(args, path='./mnist1d_data.pkl', download=False, regenerate=True)\n",
        "\n",
        "# Add 15% noise to training labels\n",
        "for c_y in range(len(data['y'])):\n",
        "    random_number = random.random()\n",
        "    if random_number < 0.15 :\n",
        "        random_int = int(random.random() * 10)\n",
        "        data['y'][c_y] = random_int\n",
        "\n",
        "# The training and test input and outputs are in\n",
        "# data['x'], data['y'], data['x_test'], and data['y_test']\n",
        "print(\"Examples in training set: {}\".format(len(data['y'])))\n",
        "print(\"Examples in test set: {}\".format(len(data['y_test'])))\n",
        "print(\"Dimensionality of each example: {}\".format(data['x'].shape[-1]))"
      ],
      "metadata": {
        "id": "PW2gyXL5UkLU",
        "colab": {
          "base_uri": "https://localhost:8080/"
        },
        "outputId": "5d209f0e-50a8-4365-af24-885147a33d05"
      },
      "execution_count": 10,
      "outputs": [
        {
          "output_type": "stream",
          "name": "stdout",
          "text": [
            "Did or could not load data from ./mnist1d_data.pkl. Rebuilding dataset...\n",
            "Examples in training set: 4000\n",
            "Examples in test set: 4000\n",
            "Dimensionality of each example: 40\n"
          ]
        }
      ]
    },
    {
      "cell_type": "code",
      "source": [
        "# Initialize the parameters with He initialization\n",
        "def weights_init(layer_in):\n",
        "  if isinstance(layer_in, nn.Linear):\n",
        "    nn.init.kaiming_uniform_(layer_in.weight)\n",
        "    layer_in.bias.data.fill_(0.0)\n",
        "\n",
        "# Return an initialized model with two hidden layers and n_hidden hidden units at each\n",
        "def get_model(n_hidden):\n",
        "\n",
        "  D_i = 40    # Input dimensions\n",
        "  D_k = n_hidden   # Hidden dimensions\n",
        "  D_o = 10    # Output dimensions\n",
        "\n",
        "  # Define a model with two hidden layers\n",
        "  # And ReLU activations between them\n",
        "  model = nn.Sequential(\n",
        "  nn.Linear(D_i, D_k),\n",
        "  nn.ReLU(),\n",
        "  nn.Linear(D_k, D_k),\n",
        "  nn.ReLU(),\n",
        "  nn.Linear(D_k, D_o))\n",
        "\n",
        "  # Call the function you just defined\n",
        "  model.apply(weights_init)\n",
        "\n",
        "  # Return the model\n",
        "  return model ;"
      ],
      "metadata": {
        "id": "hAIvZOAlTnk9"
      },
      "execution_count": 13,
      "outputs": []
    },
    {
      "cell_type": "code",
      "source": [
        "def fit_model(model, data, n_epoch):\n",
        "\n",
        "  # choose cross entropy loss function (equation 5.24)\n",
        "  loss_function = torch.nn.CrossEntropyLoss()\n",
        "  # construct SGD optimizer and initialize learning rate and momentum\n",
        "  # optimizer = torch.optim.Adam(model.parameters(), lr=0.01)\n",
        "  optimizer = torch.optim.SGD(model.parameters(), lr = 0.01, momentum=0.9)\n",
        "\n",
        "\n",
        "  x_train = torch.tensor(data['x'].astype('float32'))\n",
        "  y_train = torch.tensor(data['y'].transpose().astype('long'))\n",
        "  x_test= torch.tensor(data['x_test'].astype('float32'))\n",
        "  y_test = torch.tensor(data['y_test'].astype('long'))\n",
        "\n",
        "  # load the data into a class that creates the batches\n",
        "  data_loader = DataLoader(TensorDataset(x_train,y_train), batch_size=100, shuffle=True, worker_init_fn=np.random.seed(1))\n",
        "\n",
        "  for epoch in range(n_epoch):\n",
        "    # loop over batches\n",
        "    for i, batch in enumerate(data_loader):\n",
        "      # retrieve inputs and labels for this batch\n",
        "      x_batch, y_batch = batch\n",
        "      # zero the parameter gradients\n",
        "      optimizer.zero_grad()\n",
        "      # forward pass -- calculate model output\n",
        "      pred = model(x_batch)\n",
        "      # compute the loss\n",
        "      loss = loss_function(pred, y_batch)\n",
        "      # backward pass\n",
        "      loss.backward()\n",
        "      # SGD update\n",
        "      optimizer.step()\n",
        "\n",
        "    # Run whole dataset to get statistics -- normally wouldn't do this\n",
        "    pred_train = model(x_train)\n",
        "    pred_test = model(x_test)\n",
        "    _, predicted_train_class = torch.max(pred_train.data, 1)\n",
        "    _, predicted_test_class = torch.max(pred_test.data, 1)\n",
        "    errors_train = 100 - 100 * (predicted_train_class == y_train).float().sum() / len(y_train)\n",
        "    errors_test= 100 - 100 * (predicted_test_class == y_test).float().sum() / len(y_test)\n",
        "    losses_train = loss_function(pred_train, y_train).item()\n",
        "    losses_test= loss_function(pred_test, y_test).item()\n",
        "    if epoch%100 ==0 :\n",
        "      print(f'Epoch {epoch:5d}, train loss {losses_train:.6f}, train error {errors_train:3.2f},  test loss {losses_test:.6f}, test error {errors_test:3.2f}')\n",
        "\n",
        "  return errors_train, errors_test\n"
      ],
      "metadata": {
        "id": "AazlQhheWmHk"
      },
      "execution_count": 7,
      "outputs": []
    },
    {
      "cell_type": "code",
      "source": [
        "def count_parameters(model):\n",
        "    return sum(p.numel() for p in model.parameters() if p.requires_grad)"
      ],
      "metadata": {
        "id": "AQNCmFNV6JpV"
      },
      "execution_count": 6,
      "outputs": []
    },
    {
      "cell_type": "markdown",
      "source": [
        "The following code produces the double descent curve by training the model with different numbers of hidden units and plotting the test error.\n",
        "\n",
        "TODO:\n",
        "\n",
        "*Before* you run the code, and considering that there are 4000 training examples predict:<br>\n",
        "\n",
        "1.    At what capacity do you think the training error will become zero?\n",
        "\n",
        "At 100 hidden units the model would have enough parameters to basically memorize the data of 4000 examples.\n",
        "\n",
        "2.   At what capacity do you expect the first minima of the double descent curve to appear?\n",
        "\n",
        "Around 60 units since it would be just large enough to capture most of the data but not over fit to the noise.\n",
        "\n",
        "\n",
        "3. At what capacity do you expect the maximum of the double descent curve to appear?\n",
        "\n",
        "Around 200 units because the model would start to fit to the noise so variance increases causing test error to spike then drop to a over parameterized area.\n"
      ],
      "metadata": {
        "id": "IcP4UPMudxPS"
      }
    },
    {
      "cell_type": "code",
      "source": [
        "# This code will take a while (~30 mins on GPU) to run!  Go and make a cup of coffee!\n",
        "import time\n",
        "import numpy as np\n",
        "\n",
        "print(\"Starting training:\")\n",
        "start_total = time.time()\n",
        "\n",
        "hidden_variables = np.array([2,4,8,12,18,20,30,40,50,60,70,80,90,100,150,250,400]) ;\n",
        "\n",
        "errors_train_all = np.zeros_like(hidden_variables)\n",
        "errors_test_all = np.zeros_like(hidden_variables)\n",
        "total_weights_all = np.zeros_like(hidden_variables)\n",
        "\n",
        "# loop over the dataset n_epoch times\n",
        "n_epoch = 1000\n",
        "\n",
        "# For each hidden variable size\n",
        "for c_hidden in range(len(hidden_variables)):\n",
        "    print(f'Training model with {hidden_variables[c_hidden]:3d} hidden variables')\n",
        "    model_start = time.time()\n",
        "    # Get a model\n",
        "    model = get_model(hidden_variables[c_hidden]) ;\n",
        "    # Count and store number of weights\n",
        "    total_weights_all[c_hidden] = count_parameters(model)\n",
        "    # Train the model\n",
        "    errors_train, errors_test = fit_model(model, data, n_epoch)\n",
        "    # Store the results\n",
        "    errors_train_all[c_hidden] = errors_train\n",
        "    errors_test_all[c_hidden]= errors_test\n",
        "\n",
        "print(f\"\\n All training complete in {total_time/60:.2f} minutes ({total_time/3600:.2f} hours).\")\n",
        "\n"
      ],
      "metadata": {
        "id": "K4OmBZGHWXpk",
        "colab": {
          "base_uri": "https://localhost:8080/",
          "height": 1000
        },
        "outputId": "b0936af2-38b2-4342-a68a-e0ba9019e100"
      },
      "execution_count": 22,
      "outputs": [
        {
          "output_type": "stream",
          "name": "stdout",
          "text": [
            "Starting training:\n",
            "Training model with   2 hidden variables\n",
            "Epoch     0, train loss 2.280487, train error 87.97,  test loss 2.273692, test error 87.12\n",
            "Epoch   100, train loss 1.927165, train error 71.95,  test loss 1.767447, test error 69.90\n",
            "Epoch   200, train loss 1.919255, train error 72.12,  test loss 1.738261, test error 69.82\n",
            "Epoch   300, train loss 1.901200, train error 70.35,  test loss 1.739390, test error 69.68\n",
            "Epoch   400, train loss 1.903619, train error 71.12,  test loss 1.766754, test error 69.85\n",
            "Epoch   500, train loss 1.892960, train error 71.10,  test loss 1.728372, test error 69.82\n",
            "Epoch   600, train loss 1.891437, train error 71.12,  test loss 1.727086, test error 69.53\n",
            "Epoch   700, train loss 1.891684, train error 71.15,  test loss 1.729150, test error 69.62\n",
            "Epoch   800, train loss 1.894355, train error 72.30,  test loss 1.722252, test error 69.62\n",
            "Epoch   900, train loss 1.890556, train error 70.32,  test loss 1.721907, test error 68.82\n",
            "Training model with   4 hidden variables\n",
            "Epoch     0, train loss 2.294135, train error 86.10,  test loss 2.294218, test error 86.15\n",
            "Epoch   100, train loss 1.752099, train error 64.55,  test loss 1.598834, test error 62.03\n",
            "Epoch   200, train loss 1.733919, train error 63.80,  test loss 1.585869, test error 61.47\n",
            "Epoch   300, train loss 1.727948, train error 63.20,  test loss 1.571473, test error 61.80\n",
            "Epoch   400, train loss 1.721613, train error 62.80,  test loss 1.580706, test error 62.00\n",
            "Epoch   500, train loss 1.720292, train error 63.00,  test loss 1.572625, test error 61.53\n",
            "Epoch   600, train loss 1.717593, train error 63.00,  test loss 1.575188, test error 61.60\n",
            "Epoch   700, train loss 1.718170, train error 62.85,  test loss 1.577544, test error 62.47\n",
            "Epoch   800, train loss 1.713740, train error 62.40,  test loss 1.580616, test error 61.92\n",
            "Epoch   900, train loss 1.715343, train error 62.67,  test loss 1.588046, test error 62.00\n",
            "Training model with   8 hidden variables\n",
            "Epoch     0, train loss 2.173816, train error 79.90,  test loss 2.123743, test error 78.88\n",
            "Epoch   100, train loss 1.538867, train error 53.12,  test loss 1.344007, test error 49.58\n",
            "Epoch   200, train loss 1.506779, train error 51.17,  test loss 1.323613, test error 48.83\n",
            "Epoch   300, train loss 1.486050, train error 50.40,  test loss 1.307431, test error 47.85\n",
            "Epoch   400, train loss 1.473281, train error 49.78,  test loss 1.302637, test error 47.55\n",
            "Epoch   500, train loss 1.460517, train error 50.03,  test loss 1.293120, test error 47.65\n",
            "Epoch   600, train loss 1.455535, train error 49.50,  test loss 1.300650, test error 47.50\n",
            "Epoch   700, train loss 1.450421, train error 49.70,  test loss 1.296325, test error 47.40\n",
            "Epoch   800, train loss 1.449537, train error 50.12,  test loss 1.296869, test error 47.03\n",
            "Epoch   900, train loss 1.446568, train error 49.65,  test loss 1.298753, test error 48.08\n",
            "Training model with  12 hidden variables\n",
            "Epoch     0, train loss 2.218049, train error 83.55,  test loss 2.195527, test error 82.68\n",
            "Epoch   100, train loss 1.545277, train error 54.03,  test loss 1.434947, test error 56.08\n",
            "Epoch   200, train loss 1.493124, train error 52.53,  test loss 1.453601, test error 55.75\n",
            "Epoch   300, train loss 1.473968, train error 51.70,  test loss 1.467171, test error 55.25\n",
            "Epoch   400, train loss 1.468714, train error 51.42,  test loss 1.474913, test error 55.72\n",
            "Epoch   500, train loss 1.457339, train error 50.45,  test loss 1.500123, test error 56.67\n",
            "Epoch   600, train loss 1.448498, train error 50.12,  test loss 1.506888, test error 56.05\n",
            "Epoch   700, train loss 1.440395, train error 49.95,  test loss 1.522011, test error 56.42\n",
            "Epoch   800, train loss 1.436532, train error 50.38,  test loss 1.557712, test error 58.22\n",
            "Epoch   900, train loss 1.437024, train error 50.30,  test loss 1.555270, test error 56.65\n",
            "Training model with  18 hidden variables\n",
            "Epoch     0, train loss 2.176641, train error 81.38,  test loss 2.141621, test error 80.80\n",
            "Epoch   100, train loss 1.355846, train error 44.92,  test loss 1.291435, test error 47.62\n",
            "Epoch   200, train loss 1.253580, train error 42.65,  test loss 1.304194, test error 47.60\n",
            "Epoch   300, train loss 1.208026, train error 41.10,  test loss 1.348343, test error 49.00\n",
            "Epoch   400, train loss 1.174044, train error 40.30,  test loss 1.370694, test error 48.83\n",
            "Epoch   500, train loss 1.156504, train error 39.08,  test loss 1.416165, test error 49.42\n",
            "Epoch   600, train loss 1.143927, train error 38.42,  test loss 1.453763, test error 50.22\n",
            "Epoch   700, train loss 1.151558, train error 39.62,  test loss 1.469426, test error 50.58\n",
            "Epoch   800, train loss 1.135975, train error 38.75,  test loss 1.473944, test error 51.55\n",
            "Epoch   900, train loss 1.128970, train error 38.42,  test loss 1.489141, test error 51.28\n",
            "Training model with  20 hidden variables\n",
            "Epoch     0, train loss 2.152090, train error 81.43,  test loss 2.103574, test error 78.90\n",
            "Epoch   100, train loss 1.305046, train error 42.53,  test loss 1.321854, test error 49.40\n",
            "Epoch   200, train loss 1.210715, train error 39.15,  test loss 1.355965, test error 49.92\n",
            "Epoch   300, train loss 1.159446, train error 37.22,  test loss 1.414689, test error 50.53\n",
            "Epoch   400, train loss 1.127355, train error 36.55,  test loss 1.466723, test error 50.78\n",
            "Epoch   500, train loss 1.107453, train error 36.12,  test loss 1.507688, test error 51.72\n",
            "Epoch   600, train loss 1.096170, train error 36.05,  test loss 1.509807, test error 51.35\n",
            "Epoch   700, train loss 1.087372, train error 36.05,  test loss 1.556724, test error 52.12\n",
            "Epoch   800, train loss 1.075794, train error 34.88,  test loss 1.575552, test error 52.08\n",
            "Epoch   900, train loss 1.073431, train error 35.30,  test loss 1.589698, test error 52.40\n",
            "Training model with  30 hidden variables\n",
            "Epoch     0, train loss 2.150874, train error 81.57,  test loss 2.110774, test error 80.15\n",
            "Epoch   100, train loss 1.094358, train error 35.90,  test loss 1.318291, test error 47.58\n",
            "Epoch   200, train loss 0.929860, train error 30.85,  test loss 1.522094, test error 50.30\n",
            "Epoch   300, train loss 0.835101, train error 27.60,  test loss 1.722177, test error 52.50\n",
            "Epoch   400, train loss 0.778202, train error 25.47,  test loss 1.896778, test error 53.10\n",
            "Epoch   500, train loss 0.755676, train error 24.25,  test loss 2.049024, test error 52.90\n",
            "Epoch   600, train loss 0.709419, train error 23.03,  test loss 2.191954, test error 53.78\n",
            "Epoch   700, train loss 0.706329, train error 23.25,  test loss 2.302857, test error 55.20\n",
            "Epoch   800, train loss 0.699632, train error 22.88,  test loss 2.372301, test error 54.53\n",
            "Epoch   900, train loss 0.672204, train error 22.32,  test loss 2.481896, test error 55.47\n",
            "Training model with  40 hidden variables\n",
            "Epoch     0, train loss 2.111971, train error 79.45,  test loss 2.082523, test error 77.90\n",
            "Epoch   100, train loss 0.902426, train error 28.82,  test loss 1.500466, test error 50.67\n",
            "Epoch   200, train loss 0.656491, train error 21.70,  test loss 2.036224, test error 53.22\n",
            "Epoch   300, train loss 0.493734, train error 15.22,  test loss 2.636432, test error 55.47\n",
            "Epoch   400, train loss 0.443442, train error 14.50,  test loss 3.372537, test error 56.97\n",
            "Epoch   500, train loss 0.360734, train error 11.62,  test loss 4.086137, test error 58.15\n",
            "Epoch   600, train loss 0.379709, train error 13.57,  test loss 4.671324, test error 57.58\n",
            "Epoch   700, train loss 0.325346, train error 11.12,  test loss 5.432144, test error 58.15\n",
            "Epoch   800, train loss 0.272747, train error 9.62,  test loss 6.151034, test error 58.10\n",
            "Epoch   900, train loss 0.287127, train error 9.75,  test loss 6.775411, test error 58.33\n",
            "Training model with  50 hidden variables\n",
            "Epoch     0, train loss 2.073744, train error 77.15,  test loss 2.049159, test error 78.22\n",
            "Epoch   100, train loss 0.733890, train error 23.53,  test loss 1.557694, test error 51.12\n",
            "Epoch   200, train loss 0.331207, train error 9.12,  test loss 2.668780, test error 55.42\n",
            "Epoch   300, train loss 0.160784, train error 4.05,  test loss 4.223395, test error 56.17\n",
            "Epoch   400, train loss 0.032270, train error 0.00,  test loss 5.862147, test error 56.60\n",
            "Epoch   500, train loss 0.014185, train error 0.00,  test loss 6.835712, test error 56.53\n",
            "Epoch   600, train loss 0.009074, train error 0.00,  test loss 7.508834, test error 56.58\n",
            "Epoch   700, train loss 0.006368, train error 0.00,  test loss 8.003862, test error 56.47\n",
            "Epoch   800, train loss 0.004829, train error 0.00,  test loss 8.397719, test error 56.50\n",
            "Epoch   900, train loss 0.003890, train error 0.00,  test loss 8.724566, test error 56.42\n",
            "Training model with  60 hidden variables\n",
            "Epoch     0, train loss 2.017813, train error 75.07,  test loss 1.938113, test error 74.57\n",
            "Epoch   100, train loss 0.562592, train error 18.25,  test loss 1.713961, test error 50.58\n",
            "Epoch   200, train loss 0.094985, train error 0.50,  test loss 3.297238, test error 53.10\n",
            "Epoch   300, train loss 0.020219, train error 0.00,  test loss 4.655273, test error 53.38\n",
            "Epoch   400, train loss 0.009566, train error 0.00,  test loss 5.338125, test error 53.55\n",
            "Epoch   500, train loss 0.006110, train error 0.00,  test loss 5.788254, test error 53.83\n",
            "Epoch   600, train loss 0.004343, train error 0.00,  test loss 6.116228, test error 53.97\n",
            "Epoch   700, train loss 0.003342, train error 0.00,  test loss 6.381425, test error 53.97\n",
            "Epoch   800, train loss 0.002692, train error 0.00,  test loss 6.600773, test error 54.00\n",
            "Epoch   900, train loss 0.002238, train error 0.00,  test loss 6.784738, test error 54.15\n",
            "Training model with  70 hidden variables\n",
            "Epoch     0, train loss 2.007474, train error 75.03,  test loss 1.952184, test error 75.20\n",
            "Epoch   100, train loss 0.316539, train error 6.82,  test loss 2.019629, test error 52.10\n",
            "Epoch   200, train loss 0.030736, train error 0.00,  test loss 3.662767, test error 53.20\n",
            "Epoch   300, train loss 0.010651, train error 0.00,  test loss 4.432064, test error 53.75\n",
            "Epoch   400, train loss 0.006070, train error 0.00,  test loss 4.855892, test error 53.65\n",
            "Epoch   500, train loss 0.004040, train error 0.00,  test loss 5.154376, test error 53.65\n",
            "Epoch   600, train loss 0.002993, train error 0.00,  test loss 5.380030, test error 53.75\n",
            "Epoch   700, train loss 0.002355, train error 0.00,  test loss 5.566674, test error 53.78\n",
            "Epoch   800, train loss 0.001923, train error 0.00,  test loss 5.717813, test error 53.53\n",
            "Epoch   900, train loss 0.001617, train error 0.00,  test loss 5.850558, test error 53.62\n",
            "Training model with  80 hidden variables\n",
            "Epoch     0, train loss 2.027053, train error 74.35,  test loss 2.000685, test error 76.05\n",
            "Epoch   100, train loss 0.222123, train error 3.82,  test loss 2.156842, test error 51.75\n",
            "Epoch   200, train loss 0.019386, train error 0.00,  test loss 3.495032, test error 52.30\n",
            "Epoch   300, train loss 0.007835, train error 0.00,  test loss 4.052816, test error 52.35\n",
            "Epoch   400, train loss 0.004643, train error 0.00,  test loss 4.382398, test error 52.47\n",
            "Epoch   500, train loss 0.003234, train error 0.00,  test loss 4.620111, test error 52.38\n",
            "Epoch   600, train loss 0.002430, train error 0.00,  test loss 4.798867, test error 52.28\n",
            "Epoch   700, train loss 0.001930, train error 0.00,  test loss 4.947455, test error 52.35\n",
            "Epoch   800, train loss 0.001591, train error 0.00,  test loss 5.072664, test error 52.20\n",
            "Epoch   900, train loss 0.001346, train error 0.00,  test loss 5.181043, test error 52.10\n",
            "Training model with  90 hidden variables\n",
            "Epoch     0, train loss 1.994103, train error 73.97,  test loss 1.921332, test error 75.12\n",
            "Epoch   100, train loss 0.167901, train error 2.25,  test loss 2.289688, test error 53.67\n",
            "Epoch   200, train loss 0.015475, train error 0.00,  test loss 3.408918, test error 53.83\n",
            "Epoch   300, train loss 0.006634, train error 0.00,  test loss 3.885019, test error 53.67\n",
            "Epoch   400, train loss 0.004022, train error 0.00,  test loss 4.169858, test error 53.92\n",
            "Epoch   500, train loss 0.002818, train error 0.00,  test loss 4.372434, test error 54.00\n",
            "Epoch   600, train loss 0.002138, train error 0.00,  test loss 4.535938, test error 53.95\n",
            "Epoch   700, train loss 0.001707, train error 0.00,  test loss 4.670642, test error 53.92\n",
            "Epoch   800, train loss 0.001412, train error 0.00,  test loss 4.783247, test error 53.95\n",
            "Epoch   900, train loss 0.001198, train error 0.00,  test loss 4.881707, test error 54.03\n",
            "Training model with 100 hidden variables\n",
            "Epoch     0, train loss 2.000795, train error 72.90,  test loss 1.965530, test error 74.32\n",
            "Epoch   100, train loss 0.090456, train error 0.35,  test loss 2.258712, test error 52.20\n",
            "Epoch   200, train loss 0.011713, train error 0.00,  test loss 3.097861, test error 52.25\n",
            "Epoch   300, train loss 0.005496, train error 0.00,  test loss 3.451906, test error 52.22\n",
            "Epoch   400, train loss 0.003440, train error 0.00,  test loss 3.676787, test error 52.35\n",
            "Epoch   500, train loss 0.002454, train error 0.00,  test loss 3.843325, test error 52.20\n",
            "Epoch   600, train loss 0.001880, train error 0.00,  test loss 3.968871, test error 52.22\n",
            "Epoch   700, train loss 0.001511, train error 0.00,  test loss 4.075578, test error 52.20\n",
            "Epoch   800, train loss 0.001256, train error 0.00,  test loss 4.165930, test error 52.30\n",
            "Epoch   900, train loss 0.001070, train error 0.00,  test loss 4.243280, test error 52.20\n",
            "Training model with 150 hidden variables\n",
            "Epoch     0, train loss 1.957253, train error 72.75,  test loss 1.885792, test error 73.62\n",
            "Epoch   100, train loss 0.030023, train error 0.00,  test loss 2.085701, test error 47.90\n",
            "Epoch   200, train loss 0.007348, train error 0.00,  test loss 2.506576, test error 47.92\n",
            "Epoch   300, train loss 0.003857, train error 0.00,  test loss 2.712328, test error 47.70\n",
            "Epoch   400, train loss 0.002523, train error 0.00,  test loss 2.847302, test error 47.67\n",
            "Epoch   500, train loss 0.001843, train error 0.00,  test loss 2.946937, test error 47.58\n",
            "Epoch   600, train loss 0.001438, train error 0.00,  test loss 3.027262, test error 47.53\n",
            "Epoch   700, train loss 0.001171, train error 0.00,  test loss 3.093472, test error 47.50\n",
            "Epoch   800, train loss 0.000982, train error 0.00,  test loss 3.150057, test error 47.45\n",
            "Epoch   900, train loss 0.000843, train error 0.00,  test loss 3.199977, test error 47.50\n",
            "Training model with 250 hidden variables\n",
            "Epoch     0, train loss 1.874665, train error 67.47,  test loss 1.786029, test error 69.85\n",
            "Epoch   100, train loss 0.016278, train error 0.00,  test loss 1.918352, test error 46.40\n",
            "Epoch   200, train loss 0.005194, train error 0.00,  test loss 2.174928, test error 46.08\n",
            "Epoch   300, train loss 0.002900, train error 0.00,  test loss 2.312655, test error 46.20\n",
            "Epoch   400, train loss 0.001960, train error 0.00,  test loss 2.404956, test error 46.00\n",
            "Epoch   500, train loss 0.001460, train error 0.00,  test loss 2.475862, test error 46.03\n",
            "Epoch   600, train loss 0.001153, train error 0.00,  test loss 2.533119, test error 45.95\n",
            "Epoch   700, train loss 0.000946, train error 0.00,  test loss 2.581227, test error 46.03\n",
            "Epoch   800, train loss 0.000799, train error 0.00,  test loss 2.622908, test error 46.03\n",
            "Epoch   900, train loss 0.000689, train error 0.00,  test loss 2.658962, test error 46.03\n",
            "Training model with 400 hidden variables\n",
            "Epoch     0, train loss 1.858801, train error 66.65,  test loss 1.803874, test error 70.25\n",
            "Epoch   100, train loss 0.011733, train error 0.00,  test loss 1.780481, test error 46.28\n",
            "Epoch   200, train loss 0.004191, train error 0.00,  test loss 1.957661, test error 45.95\n",
            "Epoch   300, train loss 0.002427, train error 0.00,  test loss 2.056613, test error 45.90\n",
            "Epoch   400, train loss 0.001673, train error 0.00,  test loss 2.125101, test error 45.75\n",
            "Epoch   500, train loss 0.001260, train error 0.00,  test loss 2.177885, test error 45.80\n",
            "Epoch   600, train loss 0.001004, train error 0.00,  test loss 2.221025, test error 45.70\n",
            "Epoch   700, train loss 0.000829, train error 0.00,  test loss 2.257629, test error 45.70\n",
            "Epoch   800, train loss 0.000704, train error 0.00,  test loss 2.289140, test error 45.80\n",
            "Epoch   900, train loss 0.000610, train error 0.00,  test loss 2.316944, test error 45.75\n"
          ]
        },
        {
          "output_type": "error",
          "ename": "NameError",
          "evalue": "name 'total_time' is not defined",
          "traceback": [
            "\u001b[0;31m---------------------------------------------------------------------------\u001b[0m",
            "\u001b[0;31mNameError\u001b[0m                                 Traceback (most recent call last)",
            "\u001b[0;32m/tmp/ipython-input-2941336350.py\u001b[0m in \u001b[0;36m<cell line: 0>\u001b[0;34m()\u001b[0m\n\u001b[1;32m     29\u001b[0m     \u001b[0merrors_test_all\u001b[0m\u001b[0;34m[\u001b[0m\u001b[0mc_hidden\u001b[0m\u001b[0;34m]\u001b[0m\u001b[0;34m=\u001b[0m \u001b[0merrors_test\u001b[0m\u001b[0;34m\u001b[0m\u001b[0;34m\u001b[0m\u001b[0m\n\u001b[1;32m     30\u001b[0m \u001b[0;34m\u001b[0m\u001b[0m\n\u001b[0;32m---> 31\u001b[0;31m \u001b[0mprint\u001b[0m\u001b[0;34m(\u001b[0m\u001b[0;34mf\"\\n All training complete in {total_time/60:.2f} minutes ({total_time/3600:.2f} hours).\"\u001b[0m\u001b[0;34m)\u001b[0m\u001b[0;34m\u001b[0m\u001b[0;34m\u001b[0m\u001b[0m\n\u001b[0m\u001b[1;32m     32\u001b[0m \u001b[0;34m\u001b[0m\u001b[0m\n",
            "\u001b[0;31mNameError\u001b[0m: name 'total_time' is not defined"
          ]
        }
      ]
    },
    {
      "cell_type": "code",
      "source": [
        "import matplotlib.pyplot as plt\n",
        "import numpy as np\n",
        "\n",
        "# Assuming data['y'] is available and contains the training examples\n",
        "num_training_examples = len(data['y'])\n",
        "\n",
        "# Find the index where total_weights_all is closest to num_training_examples\n",
        "closest_index = np.argmin(np.abs(np.array(total_weights_all) - num_training_examples))\n",
        "\n",
        "# Get the corresponding value of hidden variables\n",
        "hidden_variable_at_num_training_examples = hidden_variables[closest_index]\n",
        "\n",
        "# Plot the results\n",
        "fig, ax = plt.subplots()\n",
        "ax.plot(hidden_variables, errors_train_all, 'r-', label='train')\n",
        "ax.plot(hidden_variables, errors_test_all, 'b-', label='test')\n",
        "\n",
        "# Add a vertical line at the point where total weights equal the number of training examples\n",
        "ax.axvline(x=hidden_variable_at_num_training_examples, color='g', linestyle='--', label='N(weights) = N(train)')\n",
        "\n",
        "ax.set_ylim(0, 100)\n",
        "ax.set_xlabel('No. hidden variables')\n",
        "ax.set_ylabel('Error')\n",
        "ax.legend()\n",
        "plt.show()\n"
      ],
      "metadata": {
        "id": "Rw-iRboTXbck",
        "colab": {
          "base_uri": "https://localhost:8080/",
          "height": 455
        },
        "outputId": "563b4bb9-a441-47ae-af11-f25a4d2034b3"
      },
      "execution_count": 23,
      "outputs": [
        {
          "output_type": "display_data",
          "data": {
            "text/plain": [
              "<Figure size 640x480 with 1 Axes>"
            ],
            "image/png": "[encoded data removed]"
          },
          "metadata": {}
        }
      ]
    },
    {
      "cell_type": "code",
      "source": [],
      "metadata": {
        "id": "KT4X8_hE5NFb"
      },
      "execution_count": null,
      "outputs": []
    },
    {
      "cell_type": "code",
      "source": [],
      "metadata": {
        "id": "iGKZSfVF2r4z"
      },
      "execution_count": null,
      "outputs": []
    }
  ]
}