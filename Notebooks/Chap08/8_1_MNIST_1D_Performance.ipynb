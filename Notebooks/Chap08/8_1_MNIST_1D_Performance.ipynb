{
  "cells": [
    {
      "cell_type": "markdown",
      "metadata": {
        "id": "view-in-github",
        "colab_type": "text"
      },
      "source": [
        "<a href=\"https://colab.research.google.com/github/mmmullooly123/DeepLearning_CSCI167/blob/main/Notebooks/Chap08/8_1_MNIST_1D_Performance.ipynb\" target=\"_parent\"><img src=\"https://colab.research.google.com/assets/colab-badge.svg\" alt=\"Open In Colab\"/></a>"
      ]
    },
    {
      "cell_type": "markdown",
      "metadata": {
        "id": "L6chybAVFJW2"
      },
      "source": [
        "# **Notebook 8.1: MNIST_1D_Performance**\n",
        "\n",
        "This notebook runs a simple neural network on the MNIST1D dataset as in figure 8.2a. It uses code from https://github.com/greydanus/mnist1d to generate the data.\n",
        "\n",
        "Work through the cells below, running each cell in turn. In various places you will see the words \"TODO\". Follow the instructions at these places and make predictions about what is going to happen or write code to complete the functions.\n",
        "\n",
        "Contact me at udlbookmail@gmail.com if you find any mistakes or have any suggestions."
      ]
    },
    {
      "cell_type": "code",
      "execution_count": 1,
      "metadata": {
        "id": "ifVjS4cTOqKz",
        "outputId": "8a00ddb0-5936-43cd-864c-bc99a9f541de",
        "colab": {
          "base_uri": "https://localhost:8080/"
        }
      },
      "outputs": [
        {
          "output_type": "stream",
          "name": "stdout",
          "text": [
            "Collecting git+https://github.com/greydanus/mnist1d\n",
            "  Cloning https://github.com/greydanus/mnist1d to /tmp/pip-req-build-lnzbblsp\n",
            "  Running command git clone --filter=blob:none --quiet https://github.com/greydanus/mnist1d /tmp/pip-req-build-lnzbblsp\n",
            "  Resolved https://github.com/greydanus/mnist1d to commit 7878d96082abd200c546a07a4101fa90b30fdf7e\n",
            "  Installing build dependencies ... \u001b[?25l\u001b[?25hdone\n",
            "  Getting requirements to build wheel ... \u001b[?25l\u001b[?25hdone\n",
            "  Preparing metadata (pyproject.toml) ... \u001b[?25l\u001b[?25hdone\n",
            "Requirement already satisfied: requests in /usr/local/lib/python3.12/dist-packages (from mnist1d==0.0.2.post16) (2.32.4)\n",
            "Requirement already satisfied: numpy in /usr/local/lib/python3.12/dist-packages (from mnist1d==0.0.2.post16) (2.0.2)\n",
            "Requirement already satisfied: matplotlib in /usr/local/lib/python3.12/dist-packages (from mnist1d==0.0.2.post16) (3.10.0)\n",
            "Requirement already satisfied: scipy in /usr/local/lib/python3.12/dist-packages (from mnist1d==0.0.2.post16) (1.16.2)\n",
            "Requirement already satisfied: contourpy>=1.0.1 in /usr/local/lib/python3.12/dist-packages (from matplotlib->mnist1d==0.0.2.post16) (1.3.3)\n",
            "Requirement already satisfied: cycler>=0.10 in /usr/local/lib/python3.12/dist-packages (from matplotlib->mnist1d==0.0.2.post16) (0.12.1)\n",
            "Requirement already satisfied: fonttools>=4.22.0 in /usr/local/lib/python3.12/dist-packages (from matplotlib->mnist1d==0.0.2.post16) (4.60.1)\n",
            "Requirement already satisfied: kiwisolver>=1.3.1 in /usr/local/lib/python3.12/dist-packages (from matplotlib->mnist1d==0.0.2.post16) (1.4.9)\n",
            "Requirement already satisfied: packaging>=20.0 in /usr/local/lib/python3.12/dist-packages (from matplotlib->mnist1d==0.0.2.post16) (25.0)\n",
            "Requirement already satisfied: pillow>=8 in /usr/local/lib/python3.12/dist-packages (from matplotlib->mnist1d==0.0.2.post16) (11.3.0)\n",
            "Requirement already satisfied: pyparsing>=2.3.1 in /usr/local/lib/python3.12/dist-packages (from matplotlib->mnist1d==0.0.2.post16) (3.2.5)\n",
            "Requirement already satisfied: python-dateutil>=2.7 in /usr/local/lib/python3.12/dist-packages (from matplotlib->mnist1d==0.0.2.post16) (2.9.0.post0)\n",
            "Requirement already satisfied: charset_normalizer<4,>=2 in /usr/local/lib/python3.12/dist-packages (from requests->mnist1d==0.0.2.post16) (3.4.3)\n",
            "Requirement already satisfied: idna<4,>=2.5 in /usr/local/lib/python3.12/dist-packages (from requests->mnist1d==0.0.2.post16) (3.10)\n",
            "Requirement already satisfied: urllib3<3,>=1.21.1 in /usr/local/lib/python3.12/dist-packages (from requests->mnist1d==0.0.2.post16) (2.5.0)\n",
            "Requirement already satisfied: certifi>=2017.4.17 in /usr/local/lib/python3.12/dist-packages (from requests->mnist1d==0.0.2.post16) (2025.10.5)\n",
            "Requirement already satisfied: six>=1.5 in /usr/local/lib/python3.12/dist-packages (from python-dateutil>=2.7->matplotlib->mnist1d==0.0.2.post16) (1.17.0)\n",
            "Building wheels for collected packages: mnist1d\n",
            "  Building wheel for mnist1d (pyproject.toml) ... \u001b[?25l\u001b[?25hdone\n",
            "  Created wheel for mnist1d: filename=mnist1d-0.0.2.post16-py3-none-any.whl size=14665 sha256=39cca64bbb9ccbcd6ce9f33e60f1a9211fecebac57b778e05312b8c8b1684d98\n",
            "  Stored in directory: /tmp/pip-ephem-wheel-cache-495rl4t9/wheels/18/40/b6/29381fee9b4c80fdbc304d52bb065a7286bbcca5ca2b8737c0\n",
            "Successfully built mnist1d\n",
            "Installing collected packages: mnist1d\n",
            "Successfully installed mnist1d-0.0.2.post16\n"
          ]
        }
      ],
      "source": [
        "# Run this if you're in a Colab to install MNIST 1D repository\n",
        "%pip install git+https://github.com/greydanus/mnist1d"
      ]
    },
    {
      "cell_type": "code",
      "execution_count": 3,
      "metadata": {
        "id": "qyE7G1StPIqO"
      },
      "outputs": [],
      "source": [
        "import torch, torch.nn as nn\n",
        "from torch.utils.data import TensorDataset, DataLoader\n",
        "from torch.optim.lr_scheduler import StepLR\n",
        "import numpy as np\n",
        "import matplotlib.pyplot as plt\n",
        "import mnist1d"
      ]
    },
    {
      "cell_type": "markdown",
      "metadata": {
        "id": "F7LNq72SP6jO"
      },
      "source": [
        "Let's generate a training and test dataset using the MNIST1D code.  The dataset gets saved as a .pkl file so it doesn't have to be regenerated each time."
      ]
    },
    {
      "cell_type": "code",
      "execution_count": 4,
      "metadata": {
        "id": "YLxf7dJfPaqw",
        "outputId": "8f3b3496-3a18-49ee-ea83-460d63c8bfca",
        "colab": {
          "base_uri": "https://localhost:8080/"
        }
      },
      "outputs": [
        {
          "output_type": "stream",
          "name": "stdout",
          "text": [
            "Did or could not load data from ./mnist1d_data.pkl. Rebuilding dataset...\n",
            "Examples in training set: 4000\n",
            "Examples in test set: 1000\n",
            "Length of each example: 40\n"
          ]
        }
      ],
      "source": [
        "args = mnist1d.data.get_dataset_args()\n",
        "data = mnist1d.data.get_dataset(args, path='./mnist1d_data.pkl', download=False, regenerate=False)\n",
        "\n",
        "# The training and test input and outputs are in\n",
        "# data['x'], data['y'], data['x_test'], and data['y_test']\n",
        "print(\"Examples in training set: {}\".format(len(data['y'])))\n",
        "print(\"Examples in test set: {}\".format(len(data['y_test'])))\n",
        "print(\"Length of each example: {}\".format(data['x'].shape[-1]))"
      ]
    },
    {
      "cell_type": "code",
      "execution_count": 11,
      "metadata": {
        "id": "FxaB5vc0uevl",
        "outputId": "840b0134-9fb1-4690-8dcf-e720e486c9a5",
        "colab": {
          "base_uri": "https://localhost:8080/"
        }
      },
      "outputs": [
        {
          "output_type": "stream",
          "name": "stdout",
          "text": [
            "Initializing layer\n",
            "Initializing layer\n",
            "Initializing layer\n",
            "Initializing layer\n",
            "Initializing layer\n",
            "Initializing layer\n"
          ]
        },
        {
          "output_type": "execute_result",
          "data": {
            "text/plain": [
              "Sequential(\n",
              "  (0): Linear(in_features=40, out_features=1000, bias=True)\n",
              "  (1): ReLU()\n",
              "  (2): Linear(in_features=1000, out_features=1000, bias=True)\n",
              "  (3): ReLU()\n",
              "  (4): Linear(in_features=1000, out_features=10, bias=True)\n",
              ")"
            ]
          },
          "metadata": {},
          "execution_count": 11
        }
      ],
      "source": [
        "D_i = 40    # Input dimensions\n",
        "D_k = 1000   # Hidden dimensions\n",
        "D_o = 10    # Output dimensions\n",
        "# TODO:\n",
        "# Define a model with two hidden layers of size 100\n",
        "# And ReLU activations between them\n",
        "# Replace this line (see Figure 7.8 of book for help):\n",
        "model = torch.nn.Sequential(torch.nn.Linear(D_i, D_o));\n",
        "model = torch.nn.Sequential(\n",
        "    torch.nn.Linear(D_i, D_k),\n",
        "    torch.nn.ReLU(),\n",
        "    torch.nn.Linear(D_k, D_k),\n",
        "    torch.nn.ReLU(),\n",
        "    torch.nn.Linear(D_k, D_o)\n",
        ")\n",
        "\n",
        "\n",
        "def weights_init(layer_in):\n",
        "  # TODO:\n",
        "  # Initialize the parameters with He initialization\n",
        "  # Replace this line (see figure 7.8 of book for help)\n",
        "  if isinstance(layer_in, nn.Linear):\n",
        "    nn.init.kaiming_normal_(layer_in.weight)\n",
        "    layer_in.bias.data.fill_(0.01)\n",
        "  print(\"Initializing layer\")\n",
        "\n",
        "\n",
        "# Call the function you just defined\n",
        "model.apply(weights_init)\n"
      ]
    },
    {
      "cell_type": "code",
      "execution_count": 12,
      "metadata": {
        "id": "_rX6N3VyyQTY",
        "outputId": "a4f74835-e6e8-4903-99d0-6d67cb0fc898",
        "colab": {
          "base_uri": "https://localhost:8080/"
        }
      },
      "outputs": [
        {
          "output_type": "stream",
          "name": "stdout",
          "text": [
            "Initializing layer\n",
            "Initializing layer\n",
            "Initializing layer\n",
            "Initializing layer\n",
            "Initializing layer\n",
            "Initializing layer\n",
            "Epoch     0, train loss 1.368619, train error 46.35,  test loss 1.522329, test error 59.70\n",
            "Epoch     1, train loss 1.089040, train error 35.50,  test loss 1.366861, test error 51.20\n",
            "Epoch     2, train loss 0.913137, train error 27.85,  test loss 1.295783, test error 50.10\n",
            "Epoch     3, train loss 0.784346, train error 25.38,  test loss 1.283906, test error 50.00\n",
            "Epoch     4, train loss 0.618687, train error 16.57,  test loss 1.154483, test error 43.10\n",
            "Epoch     5, train loss 0.482192, train error 11.03,  test loss 1.102448, test error 40.30\n",
            "Epoch     6, train loss 0.423631, train error 9.55,  test loss 1.127059, test error 42.00\n",
            "Epoch     7, train loss 0.324231, train error 5.20,  test loss 1.072160, test error 39.80\n",
            "Epoch     8, train loss 0.272888, train error 4.30,  test loss 1.061943, test error 40.60\n",
            "Epoch     9, train loss 0.212128, train error 2.25,  test loss 1.053452, test error 36.90\n",
            "Epoch    10, train loss 0.167118, train error 0.68,  test loss 1.027751, test error 38.20\n",
            "Epoch    11, train loss 0.150992, train error 0.53,  test loss 1.045287, test error 39.00\n",
            "Epoch    12, train loss 0.129886, train error 0.25,  test loss 1.027469, test error 37.00\n",
            "Epoch    13, train loss 0.119354, train error 0.12,  test loss 1.059811, test error 37.50\n",
            "Epoch    14, train loss 0.105836, train error 0.07,  test loss 1.042744, test error 37.10\n",
            "Epoch    15, train loss 0.095737, train error 0.05,  test loss 1.037848, test error 36.60\n",
            "Epoch    16, train loss 0.091665, train error 0.12,  test loss 1.053180, test error 35.90\n",
            "Epoch    17, train loss 0.079847, train error 0.03,  test loss 1.044282, test error 36.50\n",
            "Epoch    18, train loss 0.072793, train error 0.00,  test loss 1.052843, test error 36.20\n",
            "Epoch    19, train loss 0.068211, train error 0.00,  test loss 1.054945, test error 36.30\n",
            "Epoch    20, train loss 0.064443, train error 0.03,  test loss 1.051479, test error 36.10\n",
            "Epoch    21, train loss 0.062031, train error 0.00,  test loss 1.062232, test error 36.10\n",
            "Epoch    22, train loss 0.060026, train error 0.00,  test loss 1.059614, test error 36.30\n",
            "Epoch    23, train loss 0.057710, train error 0.00,  test loss 1.068189, test error 36.20\n",
            "Epoch    24, train loss 0.055882, train error 0.00,  test loss 1.060813, test error 36.20\n",
            "Epoch    25, train loss 0.054129, train error 0.00,  test loss 1.064608, test error 36.40\n",
            "Epoch    26, train loss 0.052330, train error 0.00,  test loss 1.073292, test error 35.70\n",
            "Epoch    27, train loss 0.050944, train error 0.00,  test loss 1.065972, test error 35.80\n",
            "Epoch    28, train loss 0.049401, train error 0.00,  test loss 1.068940, test error 35.60\n",
            "Epoch    29, train loss 0.047684, train error 0.00,  test loss 1.072900, test error 35.60\n",
            "Epoch    30, train loss 0.046876, train error 0.00,  test loss 1.074477, test error 36.10\n",
            "Epoch    31, train loss 0.046216, train error 0.00,  test loss 1.077586, test error 35.60\n",
            "Epoch    32, train loss 0.045612, train error 0.00,  test loss 1.074988, test error 35.90\n",
            "Epoch    33, train loss 0.045055, train error 0.00,  test loss 1.077246, test error 35.80\n",
            "Epoch    34, train loss 0.044403, train error 0.00,  test loss 1.078908, test error 36.00\n",
            "Epoch    35, train loss 0.043720, train error 0.00,  test loss 1.077314, test error 35.80\n",
            "Epoch    36, train loss 0.043224, train error 0.00,  test loss 1.078164, test error 35.80\n",
            "Epoch    37, train loss 0.042566, train error 0.00,  test loss 1.080764, test error 36.10\n",
            "Epoch    38, train loss 0.042023, train error 0.00,  test loss 1.080196, test error 35.80\n",
            "Epoch    39, train loss 0.041476, train error 0.00,  test loss 1.082294, test error 35.70\n",
            "Epoch    40, train loss 0.041152, train error 0.00,  test loss 1.082517, test error 35.80\n",
            "Epoch    41, train loss 0.040881, train error 0.00,  test loss 1.081941, test error 35.90\n",
            "Epoch    42, train loss 0.040618, train error 0.00,  test loss 1.082895, test error 35.70\n",
            "Epoch    43, train loss 0.040360, train error 0.00,  test loss 1.083844, test error 35.80\n",
            "Epoch    44, train loss 0.040114, train error 0.00,  test loss 1.084376, test error 35.90\n",
            "Epoch    45, train loss 0.039880, train error 0.00,  test loss 1.085304, test error 36.10\n",
            "Epoch    46, train loss 0.039615, train error 0.00,  test loss 1.085242, test error 35.70\n",
            "Epoch    47, train loss 0.039354, train error 0.00,  test loss 1.085810, test error 35.90\n",
            "Epoch    48, train loss 0.039124, train error 0.00,  test loss 1.085182, test error 36.10\n",
            "Epoch    49, train loss 0.038871, train error 0.00,  test loss 1.086027, test error 36.00\n",
            "Epoch    50, train loss 0.038746, train error 0.00,  test loss 1.086660, test error 35.80\n",
            "Epoch    51, train loss 0.038627, train error 0.00,  test loss 1.087255, test error 35.90\n",
            "Epoch    52, train loss 0.038509, train error 0.00,  test loss 1.087363, test error 35.90\n",
            "Epoch    53, train loss 0.038392, train error 0.00,  test loss 1.087476, test error 35.80\n",
            "Epoch    54, train loss 0.038275, train error 0.00,  test loss 1.087524, test error 35.90\n",
            "Epoch    55, train loss 0.038158, train error 0.00,  test loss 1.088069, test error 35.80\n",
            "Epoch    56, train loss 0.038043, train error 0.00,  test loss 1.088382, test error 35.70\n",
            "Epoch    57, train loss 0.037930, train error 0.00,  test loss 1.088655, test error 35.80\n",
            "Epoch    58, train loss 0.037821, train error 0.00,  test loss 1.089164, test error 35.70\n",
            "Epoch    59, train loss 0.037701, train error 0.00,  test loss 1.089061, test error 35.70\n",
            "Epoch    60, train loss 0.037643, train error 0.00,  test loss 1.089155, test error 35.80\n",
            "Epoch    61, train loss 0.037585, train error 0.00,  test loss 1.089246, test error 35.80\n",
            "Epoch    62, train loss 0.037529, train error 0.00,  test loss 1.089306, test error 35.80\n",
            "Epoch    63, train loss 0.037473, train error 0.00,  test loss 1.089357, test error 35.80\n",
            "Epoch    64, train loss 0.037417, train error 0.00,  test loss 1.089388, test error 35.80\n",
            "Epoch    65, train loss 0.037361, train error 0.00,  test loss 1.089607, test error 35.80\n",
            "Epoch    66, train loss 0.037306, train error 0.00,  test loss 1.089649, test error 35.80\n",
            "Epoch    67, train loss 0.037250, train error 0.00,  test loss 1.089745, test error 35.80\n",
            "Epoch    68, train loss 0.037195, train error 0.00,  test loss 1.089856, test error 35.80\n",
            "Epoch    69, train loss 0.037140, train error 0.00,  test loss 1.089978, test error 35.80\n",
            "Epoch    70, train loss 0.037112, train error 0.00,  test loss 1.090060, test error 35.80\n",
            "Epoch    71, train loss 0.037084, train error 0.00,  test loss 1.090084, test error 35.80\n",
            "Epoch    72, train loss 0.037057, train error 0.00,  test loss 1.090183, test error 35.80\n",
            "Epoch    73, train loss 0.037029, train error 0.00,  test loss 1.090237, test error 35.80\n",
            "Epoch    74, train loss 0.037002, train error 0.00,  test loss 1.090267, test error 35.80\n",
            "Epoch    75, train loss 0.036974, train error 0.00,  test loss 1.090347, test error 35.80\n",
            "Epoch    76, train loss 0.036947, train error 0.00,  test loss 1.090419, test error 35.80\n",
            "Epoch    77, train loss 0.036920, train error 0.00,  test loss 1.090421, test error 35.80\n",
            "Epoch    78, train loss 0.036893, train error 0.00,  test loss 1.090464, test error 35.80\n",
            "Epoch    79, train loss 0.036865, train error 0.00,  test loss 1.090527, test error 35.80\n",
            "Epoch    80, train loss 0.036852, train error 0.00,  test loss 1.090570, test error 35.80\n",
            "Epoch    81, train loss 0.036838, train error 0.00,  test loss 1.090590, test error 35.80\n",
            "Epoch    82, train loss 0.036824, train error 0.00,  test loss 1.090621, test error 35.80\n",
            "Epoch    83, train loss 0.036811, train error 0.00,  test loss 1.090640, test error 35.80\n",
            "Epoch    84, train loss 0.036797, train error 0.00,  test loss 1.090678, test error 35.80\n",
            "Epoch    85, train loss 0.036784, train error 0.00,  test loss 1.090702, test error 35.80\n",
            "Epoch    86, train loss 0.036770, train error 0.00,  test loss 1.090715, test error 35.80\n",
            "Epoch    87, train loss 0.036757, train error 0.00,  test loss 1.090741, test error 35.80\n",
            "Epoch    88, train loss 0.036743, train error 0.00,  test loss 1.090772, test error 35.80\n",
            "Epoch    89, train loss 0.036730, train error 0.00,  test loss 1.090805, test error 35.80\n",
            "Epoch    90, train loss 0.036723, train error 0.00,  test loss 1.090819, test error 35.80\n",
            "Epoch    91, train loss 0.036716, train error 0.00,  test loss 1.090829, test error 35.80\n",
            "Epoch    92, train loss 0.036709, train error 0.00,  test loss 1.090852, test error 35.80\n",
            "Epoch    93, train loss 0.036703, train error 0.00,  test loss 1.090868, test error 35.80\n",
            "Epoch    94, train loss 0.036696, train error 0.00,  test loss 1.090879, test error 35.80\n",
            "Epoch    95, train loss 0.036689, train error 0.00,  test loss 1.090894, test error 35.80\n",
            "Epoch    96, train loss 0.036682, train error 0.00,  test loss 1.090897, test error 35.80\n",
            "Epoch    97, train loss 0.036676, train error 0.00,  test loss 1.090908, test error 35.80\n",
            "Epoch    98, train loss 0.036669, train error 0.00,  test loss 1.090923, test error 35.80\n",
            "Epoch    99, train loss 0.036662, train error 0.00,  test loss 1.090946, test error 35.80\n"
          ]
        }
      ],
      "source": [
        "# choose cross entropy loss function (equation 5.24)\n",
        "loss_function = torch.nn.CrossEntropyLoss()\n",
        "# construct SGD optimizer and initialize learning rate and momentum\n",
        "optimizer = torch.optim.SGD(model.parameters(), lr = 0.08, momentum=0.5)\n",
        "# object that decreases learning rate by half every 10 epochs\n",
        "scheduler = StepLR(optimizer, step_size=10, gamma=0.5)\n",
        "x_train = torch.tensor(data['x'].astype('float32'))\n",
        "y_train = torch.tensor(data['y'].transpose().astype('int64'))\n",
        "x_test= torch.tensor(data['x_test'].astype('float32'))\n",
        "y_test = torch.tensor(data['y_test'].astype('int64'))\n",
        "\n",
        "# load the data into a class that creates the batches\n",
        "data_loader = DataLoader(TensorDataset(x_train,y_train), batch_size=100, shuffle=True, worker_init_fn=np.random.seed(1))\n",
        "\n",
        "# Initialize model weights\n",
        "model.apply(weights_init)\n",
        "\n",
        "# loop over the dataset n_epoch times\n",
        "n_epoch = 100\n",
        "# store the loss and the % correct at each epoch\n",
        "losses_train = np.zeros((n_epoch))\n",
        "errors_train = np.zeros((n_epoch))\n",
        "losses_test = np.zeros((n_epoch))\n",
        "errors_test = np.zeros((n_epoch))\n",
        "\n",
        "for epoch in range(n_epoch):\n",
        "  # loop over batches\n",
        "  for i, batch in enumerate(data_loader):\n",
        "    # retrieve inputs and labels for this batch\n",
        "    x_batch, y_batch = batch\n",
        "    # zero the parameter gradients\n",
        "    optimizer.zero_grad()\n",
        "    # forward pass -- calculate model output\n",
        "    pred = model(x_batch)\n",
        "    # compute the loss\n",
        "    loss = loss_function(pred, y_batch)\n",
        "    # backward pass\n",
        "    loss.backward()\n",
        "    # SGD update\n",
        "    optimizer.step()\n",
        "\n",
        "  # Run whole dataset to get statistics -- normally wouldn't do this\n",
        "  pred_train = model(x_train)\n",
        "  pred_test = model(x_test)\n",
        "  _, predicted_train_class = torch.max(pred_train.data, 1)\n",
        "  _, predicted_test_class = torch.max(pred_test.data, 1)\n",
        "  errors_train[epoch] = 100 - 100 * (predicted_train_class == y_train).float().sum() / len(y_train)\n",
        "  errors_test[epoch]= 100 - 100 * (predicted_test_class == y_test).float().sum() / len(y_test)\n",
        "  losses_train[epoch] = loss_function(pred_train, y_train).item()\n",
        "  losses_test[epoch]= loss_function(pred_test, y_test).item()\n",
        "  print(f'Epoch {epoch:5d}, train loss {losses_train[epoch]:.6f}, train error {errors_train[epoch]:3.2f},  test loss {losses_test[epoch]:.6f}, test error {errors_test[epoch]:3.2f}')\n",
        "\n",
        "  # tell scheduler to consider updating learning rate\n",
        "  scheduler.step()"
      ]
    },
    {
      "cell_type": "code",
      "execution_count": 13,
      "metadata": {
        "id": "yI-l6kA_EH9G",
        "outputId": "df9987ba-895a-453a-eea8-e14491cd0605",
        "colab": {
          "base_uri": "https://localhost:8080/",
          "height": 927
        }
      },
      "outputs": [
        {
          "output_type": "display_data",
          "data": {
            "text/plain": [
              "<Figure size 640x480 with 1 Axes>"
            ],
            "image/png": "[encoded data removed]"
          },
          "metadata": {}
        },
        {
          "output_type": "display_data",
          "data": {
            "text/plain": [
              "<Figure size 640x480 with 1 Axes>"
            ],
            "image/png": "[encoded data removed]"
          },
          "metadata": {}
        }
      ],
      "source": [
        "# Plot the results\n",
        "fig, ax = plt.subplots()\n",
        "ax.plot(errors_train,'r-',label='train')\n",
        "ax.plot(errors_test,'b-',label='test')\n",
        "ax.set_ylim(0,100); ax.set_xlim(0,n_epoch)\n",
        "ax.set_xlabel('Epoch'); ax.set_ylabel('Error')\n",
        "ax.set_title('TrainError %3.2f, Test Error %3.2f'%(errors_train[-1],errors_test[-1]))\n",
        "ax.legend()\n",
        "plt.show()\n",
        "\n",
        "# Plot the results\n",
        "fig, ax = plt.subplots()\n",
        "ax.plot(losses_train,'r-',label='train')\n",
        "ax.plot(losses_test,'b-',label='test')\n",
        "ax.set_xlim(0,n_epoch)\n",
        "ax.set_xlabel('Epoch'); ax.set_ylabel('Loss')\n",
        "ax.set_title('Train loss %3.2f, Test loss %3.2f'%(losses_train[-1],losses_test[-1]))\n",
        "ax.legend()\n",
        "plt.show()"
      ]
    },
    {
      "cell_type": "markdown",
      "metadata": {
        "id": "q-yT6re6GZS4"
      },
      "source": [
        "**TODO**\n",
        "\n",
        "Play with the model -- try changing the number of layers, hidden units, learning rate, batch size, momentum or anything else you like.  See if you can improve the test results.\n",
        "\n",
        "Is it a good idea to optimize the hyperparameters in this way?  Will the final result be a good estimate of the true test performance?\n",
        "\n",
        "Not really since that would be utilizing the test data to fix the training, instead of using the training itself. You would be kinda optimizing for that specific test data, which could lead to overfitting. So not a good estimate of true performance."
      ]
    }
  ],
  "metadata": {
    "accelerator": "GPU",
    "colab": {
      "gpuType": "T4",
      "provenance": [],
      "include_colab_link": true
    },
    "kernelspec": {
      "display_name": "Python 3",
      "name": "python3"
    },
    "language_info": {
      "name": "python"
    }
  },
  "nbformat": 4,
  "nbformat_minor": 0
}